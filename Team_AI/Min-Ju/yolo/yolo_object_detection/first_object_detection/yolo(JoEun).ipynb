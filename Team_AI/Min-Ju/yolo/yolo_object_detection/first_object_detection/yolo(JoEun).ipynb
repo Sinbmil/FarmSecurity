{
  "nbformat": 4,
  "nbformat_minor": 0,
  "metadata": {
    "accelerator": "GPU",
    "colab": {
      "name": "yolo.ipynb",
      "provenance": [],
      "collapsed_sections": []
    },
    "kernelspec": {
      "display_name": "Python 3",
      "name": "python3"
    },
    "language_info": {
      "name": "python"
    }
  },
  "cells": [
    {
      "cell_type": "markdown",
      "metadata": {
        "id": "rKS2PZw61zOl"
      },
      "source": [
        "구글 드라이브 마운트"
      ]
    },
    {
      "cell_type": "code",
      "metadata": {
        "colab": {
          "base_uri": "https://localhost:8080/"
        },
        "id": "Qtz5yz3E1frY",
        "outputId": "b5a2c58d-9b04-4cb9-90aa-44f9586e5c67"
      },
      "source": [
        "from google.colab import drive\n",
        "drive.mount('/content/drive')\n",
        "\n"
      ],
      "execution_count": null,
      "outputs": [
        {
          "output_type": "stream",
          "name": "stdout",
          "text": [
            "Mounted at /content/drive\n"
          ]
        }
      ]
    },
    {
      "cell_type": "code",
      "metadata": {
        "colab": {
          "base_uri": "https://localhost:8080/"
        },
        "id": "EpN4ujlY6lps",
        "outputId": "a9718f1d-3338-40e6-f9ec-adf31be7dfc3"
      },
      "source": [
        "%cd /content/drive/MyDrive/yolov4/"
      ],
      "execution_count": null,
      "outputs": [
        {
          "output_type": "stream",
          "name": "stdout",
          "text": [
            "/content/drive/MyDrive/yolov4\n"
          ]
        }
      ]
    },
    {
      "cell_type": "markdown",
      "metadata": {
        "id": "bosheJIZ183N"
      },
      "source": [
        "darknet 설치 [yolov4]"
      ]
    },
    {
      "cell_type": "code",
      "metadata": {
        "colab": {
          "base_uri": "https://localhost:8080/"
        },
        "id": "AgFLSfqF14W9",
        "outputId": "ba9c664f-3729-4759-cfbf-56f66672ddfc"
      },
      "source": [
        "!git clone https://github.com/AlexeyAB/darknet.git /content/drive/MyDrive/yolovs"
      ],
      "execution_count": null,
      "outputs": [
        {
          "name": "stdout",
          "output_type": "stream",
          "text": [
            "Cloning into '/content/drive/MyDrive/yolovs'...\n",
            "remote: Enumerating objects: 15308, done.\u001b[K\n",
            "remote: Total 15308 (delta 0), reused 0 (delta 0), pack-reused 15308\n",
            "Receiving objects: 100% (15308/15308), 13.70 MiB | 8.73 MiB/s, done.\n",
            "Resolving deltas: 100% (10402/10402), done.\n",
            "Checking out files: 100% (2044/2044), done.\n"
          ]
        }
      ]
    },
    {
      "cell_type": "markdown",
      "metadata": {
        "id": "y7HOZcGH2Twt"
      },
      "source": [
        "darknet 폴더 안에 Makefile 내용 수정\n"
      ]
    },
    {
      "cell_type": "code",
      "metadata": {
        "id": "7VVWGOFo2WZc",
        "colab": {
          "base_uri": "https://localhost:8080/"
        },
        "outputId": "730b0c1a-489e-4a14-8fcd-04e6fb318214"
      },
      "source": [
        "# change makefile to have GPU and OPENCV enabled\n",
        "%cd /content/drive/MyDrive/yolov4/\n",
        "!sed -i 's/OPENCV=0/OPENCV=1/' Makefile\n",
        "!sed -i 's/GPU=0/GPU=1/' Makefile\n",
        "!sed -i 's/CUDNN_HALF=0/CUDNN_HALF=1/' Makefile\n",
        "!sed -i 's/CUDNN=0/CUDNN=1/' Makefile\n",
        "!sed -i 's/LIBSO=0/LIBSO=1/' Makefile"
      ],
      "execution_count": null,
      "outputs": [
        {
          "output_type": "stream",
          "name": "stdout",
          "text": [
            "/content/drive/MyDrive/yolov4\n"
          ]
        }
      ]
    },
    {
      "cell_type": "markdown",
      "metadata": {
        "id": "FgQIYqJA2t_1"
      },
      "source": [
        "GPU 버전 확인 (설치 확인)"
      ]
    },
    {
      "cell_type": "code",
      "metadata": {
        "colab": {
          "base_uri": "https://localhost:8080/"
        },
        "id": "0A8yZkQ-2wR1",
        "outputId": "4ba189e8-0e0e-4bd0-f47f-d5b171a2ef80"
      },
      "source": [
        "!/usr/local/cuda/bin/nvcc --version"
      ],
      "execution_count": null,
      "outputs": [
        {
          "output_type": "stream",
          "name": "stdout",
          "text": [
            "nvcc: NVIDIA (R) Cuda compiler driver\n",
            "Copyright (c) 2005-2020 NVIDIA Corporation\n",
            "Built on Mon_Oct_12_20:09:46_PDT_2020\n",
            "Cuda compilation tools, release 11.1, V11.1.105\n",
            "Build cuda_11.1.TC455_06.29190527_0\n"
          ]
        }
      ]
    },
    {
      "cell_type": "markdown",
      "metadata": {
        "id": "VpXnBoXi9-l0"
      },
      "source": [
        "yolov3 학습 데이터 다운받기?"
      ]
    },
    {
      "cell_type": "code",
      "metadata": {
        "id": "TxKFxe-d9-rd"
      },
      "source": [
        "!wget https://pjreddie.com/media/files/yolov3.weights\n"
      ],
      "execution_count": null,
      "outputs": []
    },
    {
      "cell_type": "code",
      "metadata": {
        "id": "wp4CEJjRPApy"
      },
      "source": [
        "!chmod +x *.sh"
      ],
      "execution_count": null,
      "outputs": []
    },
    {
      "cell_type": "markdown",
      "metadata": {
        "id": "oS972ykM2xKd"
      },
      "source": [
        "make 하기.."
      ]
    },
    {
      "cell_type": "code",
      "metadata": {
        "id": "wGUDWNDE2xZE"
      },
      "source": [
        "!make"
      ],
      "execution_count": null,
      "outputs": []
    },
    {
      "cell_type": "markdown",
      "metadata": {
        "id": "JOtcvrUT2xel"
      },
      "source": [
        "yolov4 기존 학습 weight 파일 다운로드\n",
        "https://drive.google.com/open?id=1cewMfusmPjYWbrnuJRuKhPMwRe_b9PaT"
      ]
    },
    {
      "cell_type": "markdown",
      "metadata": {
        "id": "U1wwjHXE5Rzl"
      },
      "source": [
        "이제 테스트 해보기!\n",
        "이 코드 실행 위치는 항상 yolo가 설치된 폴더 안에서!\n"
      ]
    },
    {
      "cell_type": "code",
      "metadata": {
        "id": "tI1J9e9y8oFT"
      },
      "source": [
        "# define helper functions\n",
        "def imShow(path):\n",
        "  import cv2\n",
        "  import matplotlib.pyplot as plt\n",
        "  %matplotlib inline\n",
        "\n",
        "  image = cv2.imread(path)\n",
        "  height, width = image.shape[:2]\n",
        "  resized_image = cv2.resize(image,(3*width, 3*height), interpolation = cv2.INTER_CUBIC)\n",
        "\n",
        "  fig = plt.gcf()\n",
        "  fig.set_size_inches(18, 10)\n",
        "  plt.axis(\"off\")\n",
        "  plt.imshow(cv2.cvtColor(resized_image, cv2.COLOR_BGR2RGB))\n",
        "  plt.show()\n",
        "\n",
        "# use this to upload files\n",
        "def upload():\n",
        "  from google.colab import files\n",
        "  uploaded = files.upload() \n",
        "  for name, data in uploaded.items():\n",
        "    with open(name, 'wb') as f:\n",
        "      f.write(data)\n",
        "      print ('saved file', name)\n",
        "\n",
        "# use this to download a file  \n",
        "def download(path):\n",
        "  from google.colab import files\n",
        "  files.download(path)"
      ],
      "execution_count": null,
      "outputs": []
    },
    {
      "cell_type": "markdown",
      "metadata": {
        "id": "bjG4VV7k-XNk"
      },
      "source": [
        "yolov3 weight, cfg 를 이용한 이미지 객체 검출"
      ]
    },
    {
      "cell_type": "code",
      "metadata": {
        "id": "kURIq8dZ2xk-",
        "colab": {
          "base_uri": "https://localhost:8080/",
          "height": 266
        },
        "outputId": "f4ac4777-ad90-4c58-dc38-4701c2ee279c"
      },
      "source": [
        "%cd /content/drive/MyDrive/yolov4/\n",
        "!./darknet detect cfg/yolov3.cfg yolov3.weights data/cars_6.jpg\n",
        "imShow('predictions.jpg')"
      ],
      "execution_count": 1,
      "outputs": [
        {
          "output_type": "stream",
          "name": "stdout",
          "text": [
            "[Errno 2] No such file or directory: '/content/drive/MyDrive/yolov4/'\n",
            "/content\n",
            "/bin/bash: ./darknet: No such file or directory\n"
          ]
        },
        {
          "output_type": "error",
          "ename": "NameError",
          "evalue": "ignored",
          "traceback": [
            "\u001b[0;31m---------------------------------------------------------------------------\u001b[0m",
            "\u001b[0;31mNameError\u001b[0m                                 Traceback (most recent call last)",
            "\u001b[0;32m<ipython-input-1-4f3294726e13>\u001b[0m in \u001b[0;36m<module>\u001b[0;34m()\u001b[0m\n\u001b[1;32m      1\u001b[0m \u001b[0mget_ipython\u001b[0m\u001b[0;34m(\u001b[0m\u001b[0;34m)\u001b[0m\u001b[0;34m.\u001b[0m\u001b[0mmagic\u001b[0m\u001b[0;34m(\u001b[0m\u001b[0;34m'cd /content/drive/MyDrive/yolov4/'\u001b[0m\u001b[0;34m)\u001b[0m\u001b[0;34m\u001b[0m\u001b[0;34m\u001b[0m\u001b[0m\n\u001b[1;32m      2\u001b[0m \u001b[0mget_ipython\u001b[0m\u001b[0;34m(\u001b[0m\u001b[0;34m)\u001b[0m\u001b[0;34m.\u001b[0m\u001b[0msystem\u001b[0m\u001b[0;34m(\u001b[0m\u001b[0;34m'./darknet detect cfg/yolov3.cfg yolov3.weights data/cars_6.jpg'\u001b[0m\u001b[0;34m)\u001b[0m\u001b[0;34m\u001b[0m\u001b[0;34m\u001b[0m\u001b[0m\n\u001b[0;32m----> 3\u001b[0;31m \u001b[0mimShow\u001b[0m\u001b[0;34m(\u001b[0m\u001b[0;34m'predictions.jpg'\u001b[0m\u001b[0;34m)\u001b[0m\u001b[0;34m\u001b[0m\u001b[0;34m\u001b[0m\u001b[0m\n\u001b[0m",
            "\u001b[0;31mNameError\u001b[0m: name 'imShow' is not defined"
          ]
        }
      ]
    },
    {
      "cell_type": "markdown",
      "metadata": {
        "id": "2Y7zqNfI-h6k"
      },
      "source": [
        "yolov3 를 이용한 웹캠 객체 검출"
      ]
    },
    {
      "cell_type": "code",
      "metadata": {
        "id": "FaEKTrel-iBj",
        "colab": {
          "base_uri": "https://localhost:8080/"
        },
        "outputId": "22d62fbe-a83d-4d36-c44b-c8a039a00684"
      },
      "source": [
        "!./darknet detector demo cfg/coco.data cfg/yolov3.cfg yolov3.weights"
      ],
      "execution_count": null,
      "outputs": [
        {
          "output_type": "stream",
          "name": "stdout",
          "text": [
            " CUDA-version: 11010 (11020), cuDNN: 7.6.5, CUDNN_HALF=1, GPU count: 1  \n",
            " CUDNN_HALF=1 \n",
            " OpenCV version: 3.2.0\n",
            "^C\n"
          ]
        }
      ]
    },
    {
      "cell_type": "code",
      "metadata": {
        "id": "VfQZK-flQN_A"
      },
      "source": [
        "#권한 에러 발생시 실행\n",
        "!chmod +x ./darknet"
      ],
      "execution_count": null,
      "outputs": []
    },
    {
      "cell_type": "code",
      "metadata": {
        "id": "wpVgZNpP9KbE"
      },
      "source": [
        "!./darknet detector cfg/yolov3_custom.cfg backup/yolov3_custom_last.weights data/obj/data_0.jpg \n",
        "imShow(\"predictions.jpg\")"
      ],
      "execution_count": null,
      "outputs": []
    },
    {
      "cell_type": "code",
      "metadata": {
        "id": "LOmH7e4RVFVY"
      },
      "source": [
        "!./darknet detector test data/obj.data cfg/yolov3_custom.cfg backup/yolov3_custom_last.weights data/obj/data_2.jpg -thresh 0.6\n",
        "imShow('predictions.jpg')"
      ],
      "execution_count": null,
      "outputs": []
    },
    {
      "cell_type": "markdown",
      "metadata": {
        "id": "WjqhTtBPIzJ2"
      },
      "source": [
        "Pretrain 모델 다운"
      ]
    },
    {
      "cell_type": "code",
      "metadata": {
        "id": "tCWjpAjJIzQV"
      },
      "source": [
        "!wget https://pjreddie.com/media/files/darknet53.conv.74\n"
      ],
      "execution_count": null,
      "outputs": []
    },
    {
      "cell_type": "code",
      "metadata": {
        "id": "h4E4LOGXKcYm"
      },
      "source": [
        "!python generate_train.py\n"
      ],
      "execution_count": null,
      "outputs": []
    },
    {
      "cell_type": "code",
      "metadata": {
        "colab": {
          "base_uri": "https://localhost:8080/"
        },
        "id": "sqEroCqpL8WI",
        "outputId": "fb3ef83b-3470-4dc2-d973-c62cde68d544"
      },
      "source": [
        "!pwd"
      ],
      "execution_count": null,
      "outputs": [
        {
          "name": "stdout",
          "output_type": "stream",
          "text": [
            "/content/drive/My Drive/yolov4\n"
          ]
        }
      ]
    },
    {
      "cell_type": "code",
      "metadata": {
        "id": "QlFOGAjfL9eG"
      },
      "source": [
        "!chmod +x ./darknet"
      ],
      "execution_count": null,
      "outputs": []
    },
    {
      "cell_type": "code",
      "metadata": {
        "id": "IrT9LSjc8LMt"
      },
      "source": [
        "# train your custom detector\n",
        "#!./darknet detector train data/obj.data cfg/yolov3-voc_custom.cfg darknet53.conv.74 -dont_show\n",
        "!./darknet detector train data/obj.data cfg/yolov3_custom.cfg darknet53.conv.74 -dont_show"
      ],
      "execution_count": null,
      "outputs": []
    },
    {
      "cell_type": "markdown",
      "metadata": {
        "id": "xCYF19wDArJz"
      },
      "source": [
        "**TRICK**: If for some reason you get an error or your Colab goes idle during training, you have not lost your weights! Every 100 iterations a weights file called **yolov3_custom_last.weights** is saved to **mydrive/yolov3/backup/** folder (wherever your backup folder is). This is why we created this folder in our Google drive and not on the cloud VM. If your runtime crashes and your backup folder was in your cloud VM you would lose your weights and your training progress.\n",
        "\n",
        "We can kick off training from our last saved weights file so that we don't have to restart! WOOHOO! Just run the following command but with your backup location.\n",
        "```\n",
        "!./darknet detector train data/obj.data cfg/yolov3_custom.cfg /mydrive/yolo/backup/yolov3-tiny_last.weights -dont_show\n",
        "```"
      ]
    },
    {
      "cell_type": "code",
      "metadata": {
        "id": "8X8Hu3RLQB-2"
      },
      "source": [
        "\n",
        "!./darknet detector train data/obj.data cfg/yolov4-custom.cfg /content/drive/MyDrive/yolov4/yolov4.weights -dont_show\n"
      ],
      "execution_count": null,
      "outputs": []
    },
    {
      "cell_type": "markdown",
      "metadata": {
        "id": "GUa4FrN26TrV"
      },
      "source": [
        "훈련을 시켜보자! v4"
      ]
    },
    {
      "cell_type": "code",
      "metadata": {
        "id": "XMvEB0hl6VNQ"
      },
      "source": [
        "! ./darknet detector train data/obj.data cfg/yolov4-custom.cfg weight/yolov4.conv.137 -dont_show"
      ],
      "execution_count": null,
      "outputs": []
    },
    {
      "cell_type": "code",
      "metadata": {
        "id": "y8Xa-IbQ5RIq"
      },
      "source": [
        "!./darknet detector train data/obj.data cfg/yolov4-custom.cfg backup/yolov4-custom_final.weights -dont_show"
      ],
      "execution_count": null,
      "outputs": []
    },
    {
      "cell_type": "markdown",
      "metadata": {
        "id": "fFEbGkM4rBiB"
      },
      "source": [
        "이어서 학습\n"
      ]
    },
    {
      "cell_type": "code",
      "metadata": {
        "id": "yE_Q7BXxXxMl"
      },
      "source": [
        "!./darknet detector train data/obj.data cfg/yolov4-custom.cfg backup/yolov4-custom_last.weights -dont_show"
      ],
      "execution_count": null,
      "outputs": []
    },
    {
      "cell_type": "markdown",
      "metadata": {
        "id": "EzaxCCsm6zDy"
      },
      "source": [
        "객체 탐지하기\n"
      ]
    },
    {
      "cell_type": "code",
      "metadata": {
        "id": "ly_DXxjh6ymq",
        "colab": {
          "base_uri": "https://localhost:8080/",
          "height": 641
        },
        "outputId": "9fe43051-e66a-4a8f-ae03-ef45f593fd94"
      },
      "source": [
        "!./darknet detector test data/obj.data cfg/yolov4-custom.cfg backup/yolov4-custom_final.weights data/obj3/data_12.png -thresh 0.3\n",
        "imShow('predictions.jpg')"
      ],
      "execution_count": null,
      "outputs": [
        {
          "output_type": "stream",
          "name": "stdout",
          "text": [
            " CUDA-version: 11010 (11020), cuDNN: 7.6.5, CUDNN_HALF=1, GPU count: 1  \n",
            " CUDNN_HALF=1 \n",
            " OpenCV version: 3.2.0\n",
            "^C\n"
          ]
        },
        {
          "output_type": "display_data",
          "data": {
            "image/png": "[encoded data removed]",
            "text/plain": [
              "<Figure size 1296x720 with 1 Axes>"
            ]
          },
          "metadata": {
            "needs_background": "light"
          }
        }
      ]
    },
    {
      "cell_type": "markdown",
      "source": [
        "# 새 섹션"
      ],
      "metadata": {
        "id": "UaDOgrMjDrCz"
      }
    }
  ]
}